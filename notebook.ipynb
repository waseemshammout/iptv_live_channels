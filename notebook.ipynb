{
 "cells": [
  {
   "cell_type": "code",
   "execution_count": null,
   "metadata": {},
   "outputs": [],
   "source": [
    "import os\n",
    "\n",
    "def log_that_line(logWhat):\n",
    "    try:\n",
    "        file = open('output.csv', \"a\")  # Open the file in append mode\n",
    "        file.write(logWhat)             # Write each item to the file\n",
    "        file.close()\n",
    "    except:\n",
    "        log_that_line(logWhat)\n",
    "\n",
    "# This function finds the last comma character index number within a text\n",
    "def LastCommaPosition(text):\n",
    "    CommaCount = text.count(',')\n",
    "    RepNum = 0\n",
    "    for i in range(CommaCount):\n",
    "        RepNum = text.find(',', RepNum)\n",
    "        RepNum += 1\n",
    "    return RepNum - 1\n",
    "\n",
    "x = 0\n",
    "row_complete = True\n",
    "channel_name = ''\n",
    "channel_url = ''\n",
    "channel_directory = 'streams'"
   ]
  },
  {
   "cell_type": "code",
   "execution_count": null,
   "metadata": {},
   "outputs": [],
   "source": [
    "log_that_line('channel_name,channel_url\\n')\n",
    "\n",
    "for y, filename in enumerate(os.listdir(channel_directory)):\n",
    "    f = os.path.join(channel_directory, filename)\n",
    "    with open(f, 'r') as source_file:\n",
    "        for i, line in enumerate(source_file):\n",
    "            if line.find('#EXTM3U') != -1 or line.find('#EXTVLCOPT') != -1:\n",
    "                continue\n",
    "            elif line.find('tvg-id') != -1 and row_complete == True:\n",
    "                line = line[LastCommaPosition(line) + 1:]\n",
    "                channel_name = line.replace('\\n', '')\n",
    "                row_complete = False\n",
    "            else:\n",
    "                channel_url = line.replace('\\n', '')\n",
    "                row_complete = True\n",
    "                channel_name = channel_name.replace(',','')\n",
    "                channel_url = channel_url.replace(',','')\n",
    "                log_that_line(f'\"{channel_name}\", \"{channel_url}\"'  + '\\n')\n",
    "    print(filename)\n",
    "    x += 1\n",
    "print(x, 'files completed')"
   ]
  },
  {
   "cell_type": "code",
   "execution_count": null,
   "metadata": {},
   "outputs": [],
   "source": [
    "import pandas as pd\n",
    "df = pd.read_csv('output.csv', sep=',')\n",
    "df.head()"
   ]
  }
 ],
 "metadata": {
  "kernelspec": {
   "display_name": "Python 3",
   "language": "python",
   "name": "python3"
  },
  "language_info": {
   "codemirror_mode": {
    "name": "ipython",
    "version": 3
   },
   "file_extension": ".py",
   "mimetype": "text/x-python",
   "name": "python",
   "nbconvert_exporter": "python",
   "pygments_lexer": "ipython3",
   "version": "3.12.7"
  }
 },
 "nbformat": 4,
 "nbformat_minor": 2
}
