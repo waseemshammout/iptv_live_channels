{
 "cells": [
  {
   "cell_type": "code",
   "execution_count": 1,
   "metadata": {},
   "outputs": [],
   "source": [
    "import requests"
   ]
  },
  {
   "cell_type": "code",
   "execution_count": 2,
   "metadata": {},
   "outputs": [],
   "source": [
    "# _files = [\"ae.m3u\", \"sy.m3u\", \"sa.m3u\"]\n",
    "import requests\n",
    "\n",
    "url = \"https://api.github.com/repos/iptv-org/iptv/contents/streams\"\n",
    "\n",
    "response = requests.get(url)\n",
    "if response.status_code == 200:\n",
    "    files = response.json()\n",
    "    for file_info in files:\n",
    "        # if file_info[\"name\"] in _files:\n",
    "        file_url = file_info[\"download_url\"]\n",
    "        file_response = requests.get(file_url)\n",
    "        if file_response.status_code == 200:\n",
    "            # print(f\"Contents of {file_info['name']}:\")\n",
    "            for line in file_response.text.splitlines():\n",
    "                if line.find('#EXTM3U') == -1 and line.find('EXTVLCOPT') == -1:\n",
    "                    line = line.strip()\n",
    "                    # print(line)\n",
    "                    with open('t.txt', 'a', encoding='utf-8') as txtFile:\n",
    "                        txtFile.write(line + '\\n')\n",
    "                        txtFile.close()\n",
    "            # print('+++++++++', \"\\n\" + \"=\" * 40 + \"\\n\")\n",
    "        # else:\n",
    "        #     print(f\"Failed to fetch {file_info['name']}\")\n",
    "else:\n",
    "    print(\"Failed to retrieve file list:\", response.status_code)"
   ]
  },
  {
   "cell_type": "code",
   "execution_count": 3,
   "metadata": {},
   "outputs": [],
   "source": [
    "import pandas as pd\n",
    "line_open = False\n",
    "channels_dict = dict()\n",
    "channel_url, channel_name = \"\", \"\"\n",
    "with open(\"t.txt\", \"r\", encoding='utf-8') as tFile:\n",
    "    for i, line in enumerate(tFile.readlines()):\n",
    "        line = line.replace(\"\\n\", \"\")\n",
    "        # print(line)\n",
    "        if line.find('#EXTINF:-1 tvg-id=\"') != -1:\n",
    "            line_open = True\n",
    "            channel_name = line[line.find(\",\") + 1 :]\n",
    "            # print(channel_name)\n",
    "        if line_open and line.find(\"http\") != -1:\n",
    "            channel_url = line\n",
    "            line_open = False\n",
    "            # print(f\"{channel_name},{channel_url}\")\n",
    "            if not (channel_name in channels_dict.keys()):\n",
    "                channels_dict[channel_name] = channel_url\n",
    "df = pd.DataFrame({\n",
    "    'channel_name':channels_dict.keys(),\n",
    "    'channel_url':channels_dict.values()\n",
    "})"
   ]
  },
  {
   "cell_type": "code",
   "execution_count": 4,
   "metadata": {},
   "outputs": [
    {
     "data": {
      "text/html": [
       "<div>\n",
       "<style scoped>\n",
       "    .dataframe tbody tr th:only-of-type {\n",
       "        vertical-align: middle;\n",
       "    }\n",
       "\n",
       "    .dataframe tbody tr th {\n",
       "        vertical-align: top;\n",
       "    }\n",
       "\n",
       "    .dataframe thead th {\n",
       "        text-align: right;\n",
       "    }\n",
       "</style>\n",
       "<table border=\"1\" class=\"dataframe\">\n",
       "  <thead>\n",
       "    <tr style=\"text-align: right;\">\n",
       "      <th></th>\n",
       "      <th>channel_name</th>\n",
       "      <th>channel_url</th>\n",
       "    </tr>\n",
       "  </thead>\n",
       "  <tbody>\n",
       "    <tr>\n",
       "      <th>7679</th>\n",
       "      <td>Al Jazeera Arabic (1080p)</td>\n",
       "      <td>https://live-hls-v3-aja.getaj.net/AJA-V3/index...</td>\n",
       "    </tr>\n",
       "  </tbody>\n",
       "</table>\n",
       "</div>"
      ],
      "text/plain": [
       "                   channel_name  \\\n",
       "7679  Al Jazeera Arabic (1080p)   \n",
       "\n",
       "                                            channel_url  \n",
       "7679  https://live-hls-v3-aja.getaj.net/AJA-V3/index...  "
      ]
     },
     "execution_count": 4,
     "metadata": {},
     "output_type": "execute_result"
    }
   ],
   "source": [
    "df[df['channel_name']=='Al Jazeera Arabic (1080p)']"
   ]
  },
  {
   "cell_type": "code",
   "execution_count": 5,
   "metadata": {},
   "outputs": [
    {
     "name": "stdout",
     "output_type": "stream",
     "text": [
      "Channels urls updated!\n",
      "Missing Channels: \n",
      " {'Al Arabiya Programs (1080p)', 'CNBC Arabia (1080p)'}\n"
     ]
    }
   ],
   "source": [
    "channels = set()\n",
    "with open('channels.m3u','r') as live_channels:\n",
    "    for i, channel in enumerate(live_channels.readlines()):\n",
    "        if i % 2 != 0:\n",
    "            channel = channel.replace('\\n','')\n",
    "            channel = channel[channel.find(',') + 1:]\n",
    "            channels.add(channel)\n",
    "live_channels.close()\n",
    "\n",
    "new_channels_list = df[df['channel_name'].isin(channels)].sort_values(by='channel_name', ascending=True)\n",
    "\n",
    "import os\n",
    "# os.remove('channels_old.m3u')\n",
    "os.rename('channels.m3u', 'channels_old.m3u')\n",
    "\n",
    "\n",
    "def log_that_line(logWhat):\n",
    "    try:\n",
    "        file = open('channels.m3u', \"a\")\n",
    "        file.write(logWhat)             \n",
    "        file.close()\n",
    "    except:\n",
    "        log_that_line(logWhat)\n",
    "\n",
    "log_that_line('#EXTM3U\\n')\n",
    "for i, row in new_channels_list.iterrows():\n",
    "    name = row.iloc[0]\n",
    "    url = row.iloc[1]\n",
    "    line1 = f'#EXTINF:-1 tvg-id=\"{name}\",{name}' \n",
    "    line2 = url\n",
    "    log_that_line(line1 + '\\n' + line2 + '\\n')\n",
    "\n",
    "# os.remove('t.txt')\n",
    "print('Channels urls updated!')\n",
    "\n",
    "missing_channels = channels.difference(df['channel_name'].unique())\n",
    "print('Missing Channels: \\n', missing_channels)"
   ]
  }
 ],
 "metadata": {
  "kernelspec": {
   "display_name": "Python 3",
   "language": "python",
   "name": "python3"
  },
  "language_info": {
   "codemirror_mode": {
    "name": "ipython",
    "version": 3
   },
   "file_extension": ".py",
   "mimetype": "text/x-python",
   "name": "python",
   "nbconvert_exporter": "python",
   "pygments_lexer": "ipython3",
   "version": "3.13.0"
  }
 },
 "nbformat": 4,
 "nbformat_minor": 2
}
